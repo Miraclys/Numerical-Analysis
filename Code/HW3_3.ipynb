{
 "cells": [
  {
   "cell_type": "code",
   "execution_count": 1,
   "metadata": {},
   "outputs": [
    {
     "name": "stdout",
     "output_type": "stream",
     "text": [
      "问题1的Hermite插值多项式:\n",
      "                  2        2\n",
      "(10 - 3⋅x)⋅(x - 2) ⋅(x - 1) \n",
      "────────────────────────────\n",
      "             4              \n",
      "问题2的Hermite插值多项式:\n",
      " 2 ⎛ 3      2        ⎞\n",
      "x ⋅⎝x  - 3⋅x  - x + 7⎠\n",
      "──────────────────────\n",
      "          4           \n"
     ]
    }
   ],
   "source": [
    "import sympy as sp\n",
    "\n",
    "# 定义变量\n",
    "x = sp.symbols('x')\n",
    "\n",
    "# Hermite插值多项式构造函数\n",
    "def hermite_interpolation(points, values, derivatives):\n",
    "    n = len(points)\n",
    "    H = 0\n",
    "    for i in range(n):\n",
    "        # 定义拉格朗日基函数\n",
    "        Li = 1\n",
    "        for j in range(n):\n",
    "            if i != j:\n",
    "                Li *= (x - points[j]) / (points[i] - points[j])\n",
    "        \n",
    "        # 拉格朗日基函数的导数\n",
    "        L_prime = sp.diff(Li, x)\n",
    "        \n",
    "        # 构造Hermite多项式项\n",
    "        Hi = (1 - 2 * (x - points[i]) * L_prime.subs(x, points[i])) * Li**2 * values[i]\n",
    "        if derivatives[i] is not None:\n",
    "            Hi += (x - points[i]) * Li**2 * derivatives[i]\n",
    "        \n",
    "        H += Hi\n",
    "    \n",
    "    return sp.simplify(H)\n",
    "\n",
    "# 问题1的点、值和导数\n",
    "points_1 = [1, 2, 3]\n",
    "values_1 = [0, 0, 1]\n",
    "derivatives_1 = [0, 0, None]\n",
    "\n",
    "# 求解问题1的Hermite插值多项式\n",
    "hermite_poly_1 = hermite_interpolation(points_1, values_1, derivatives_1)\n",
    "print(\"问题1的Hermite插值多项式:\")\n",
    "sp.pretty_print(hermite_poly_1)\n",
    "\n",
    "# 问题2的点、值和导数\n",
    "points_2 = [0, 1, 2]\n",
    "values_2 = [0, 1, 1]\n",
    "derivatives_2 = [0, 1, None]\n",
    "\n",
    "# 求解问题2的Hermite插值多项式\n",
    "hermite_poly_2 = hermite_interpolation(points_2, values_2, derivatives_2)\n",
    "print(\"问题2的Hermite插值多项式:\")\n",
    "sp.pretty_print(hermite_poly_2)\n"
   ]
  },
  {
   "cell_type": "code",
   "execution_count": 3,
   "metadata": {},
   "outputs": [
    {
     "name": "stdout",
     "output_type": "stream",
     "text": [
      "cos(2) + 4\n",
      "2*x + cos(x)\n"
     ]
    }
   ],
   "source": [
    "import sympy as sp\n",
    "\n",
    "x = sp.symbols('x')\n",
    "\n",
    "f = x ** 2 + sp.sin(x)\n",
    "\n",
    "f_prime = sp.diff(f, x)\n",
    "\n",
    "f_prime_value = f_prime.subs(x, 2)\n",
    "\n",
    "\n",
    "print(f_prime_value)\n",
    "print(f_prime)"
   ]
  }
 ],
 "metadata": {
  "kernelspec": {
   "display_name": "hands-on-rl",
   "language": "python",
   "name": "python3"
  },
  "language_info": {
   "codemirror_mode": {
    "name": "ipython",
    "version": 3
   },
   "file_extension": ".py",
   "mimetype": "text/x-python",
   "name": "python",
   "nbconvert_exporter": "python",
   "pygments_lexer": "ipython3",
   "version": "3.8.19"
  }
 },
 "nbformat": 4,
 "nbformat_minor": 2
}
